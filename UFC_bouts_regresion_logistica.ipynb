{
  "nbformat": 4,
  "nbformat_minor": 0,
  "metadata": {
    "colab": {
      "provenance": [],
      "authorship_tag": "ABX9TyMNJA4MJ8+1/4Jy6se7Eb6G",
      "include_colab_link": true
    },
    "kernelspec": {
      "name": "python3",
      "display_name": "Python 3"
    },
    "language_info": {
      "name": "python"
    }
  },
  "cells": [
    {
      "cell_type": "markdown",
      "metadata": {
        "id": "view-in-github",
        "colab_type": "text"
      },
      "source": [
        "<a href=\"https://colab.research.google.com/github/KettoMisaell/UFC_logistic_prediction/blob/main/UFC_bouts_regresion_logistica.ipynb\" target=\"_parent\"><img src=\"https://colab.research.google.com/assets/colab-badge.svg\" alt=\"Open In Colab\"/></a>"
      ]
    },
    {
      "cell_type": "markdown",
      "source": [
        "# ***Predicciones de los ganadores de combates de UFC.***\n",
        "\n",
        "> Bloc con sangría\n",
        "\n"
      ],
      "metadata": {
        "id": "KwLvMw9BERl5"
      }
    },
    {
      "cell_type": "markdown",
      "source": [
        "Se utilizará la regresión logística para decidir el ganador de cada combate de UFC registrado en el Data Set de Kaggle https://www.kaggle.com/datasets/mdabbert/ultimate-ufc-dataset, con 119 características diferentes por cada combate, estadísticas, de antes y después del combate, por supuesto para predecir el ganador solamente se ocuparán características de antes del combate."
      ],
      "metadata": {
        "id": "1HG-dR6LEvlt"
      }
    },
    {
      "cell_type": "markdown",
      "source": [
        "También se hará uso de un pipeline para ejemplificar una buena práctica al momento de crear este tipo de modelos."
      ],
      "metadata": {
        "id": "qtOWLqZnjWJz"
      }
    },
    {
      "cell_type": "code",
      "execution_count": null,
      "metadata": {
        "id": "ZYA5clAfaWj_"
      },
      "outputs": [],
      "source": [
        "import pandas as pd\n",
        "import numpy as np\n",
        "import seaborn as sns\n",
        "import matplotlib.pyplot as plt\n",
        "\n",
        "# Preprocesado y modelado\n",
        "from sklearn.linear_model import LogisticRegression\n",
        "from sklearn.model_selection import train_test_split\n",
        "from sklearn.metrics import accuracy_score\n",
        "import statsmodels.api as sm\n",
        "import statsmodels.formula.api as smf\n"
      ]
    },
    {
      "cell_type": "code",
      "source": [
        "ufc = pd.read_csv(\"/content/ufc-master.csv\")"
      ],
      "metadata": {
        "id": "0HNvevzu6jyc"
      },
      "execution_count": null,
      "outputs": []
    },
    {
      "cell_type": "code",
      "source": [
        "ufc"
      ],
      "metadata": {
        "colab": {
          "base_uri": "https://localhost:8080/",
          "height": 834
        },
        "id": "V9XvecEqyMPO",
        "outputId": "1dd135dc-f468-4464-e8f1-966d241256bf"
      },
      "execution_count": null,
      "outputs": [
        {
          "output_type": "execute_result",
          "data": {
            "text/plain": [
              "                R_fighter        B_fighter  R_odds  B_odds        R_ev  \\\n",
              "0           Thiago Santos    Johnny Walker  -150.0     130   66.666667   \n",
              "1           Alex Oliveira       Niko Price   170.0    -200  170.000000   \n",
              "2          Misha Cirkunov  Krzysztof Jotko   110.0    -130  110.000000   \n",
              "3     Alexander Hernandez     Mike Breeden  -675.0     475   14.814815   \n",
              "4             Joe Solecki     Jared Gordon  -135.0     115   74.074074   \n",
              "...                   ...              ...     ...     ...         ...   \n",
              "4891         Duane Ludwig    Darren Elkins  -155.0     135   64.516129   \n",
              "4892          John Howard   Daniel Roberts  -210.0     175   47.619048   \n",
              "4893       Brendan Schaub    Chase Gormley  -260.0     220   38.461538   \n",
              "4894          Mike Pierce    Julio Paulino  -420.0     335   23.809524   \n",
              "4895         Eric Schafer      Jason Brilz   140.0    -160  140.000000   \n",
              "\n",
              "            B_ev        date                   location country Winner  ...  \\\n",
              "0     130.000000  2021-10-02     Las Vegas, Nevada, USA     USA    Red  ...   \n",
              "1      50.000000  2021-10-02     Las Vegas, Nevada, USA     USA   Blue  ...   \n",
              "2      76.923077  2021-10-02     Las Vegas, Nevada, USA     USA   Blue  ...   \n",
              "3     475.000000  2021-10-02     Las Vegas, Nevada, USA     USA    Red  ...   \n",
              "4     115.000000  2021-10-02     Las Vegas, Nevada, USA     USA   Blue  ...   \n",
              "...          ...         ...                        ...     ...    ...  ...   \n",
              "4891  135.000000   3/21/2010  Broomfield, Colorado, USA     USA   Blue  ...   \n",
              "4892  175.000000   3/21/2010  Broomfield, Colorado, USA     USA    Red  ...   \n",
              "4893  220.000000   3/21/2010  Broomfield, Colorado, USA     USA    Red  ...   \n",
              "4894  335.000000   3/21/2010  Broomfield, Colorado, USA     USA    Red  ...   \n",
              "4895   62.500000   3/21/2010  Broomfield, Colorado, USA     USA   Blue  ...   \n",
              "\n",
              "      finish_details finish_round finish_round_time  total_fight_time_secs  \\\n",
              "0                NaN          5.0              5:00                 1500.0   \n",
              "1                NaN          3.0              5:00                  900.0   \n",
              "2                NaN          3.0              5:00                  900.0   \n",
              "3              Punch          1.0              1:20                   80.0   \n",
              "4                NaN          3.0              5:00                  900.0   \n",
              "...              ...          ...               ...                    ...   \n",
              "4891             NaN          1.0              0:44                   44.0   \n",
              "4892           Punch          1.0              2:01                  121.0   \n",
              "4893         Punches          1.0              0:47                   47.0   \n",
              "4894             NaN          3.0              5:00                  900.0   \n",
              "4895             NaN          3.0              5:00                  900.0   \n",
              "\n",
              "      r_dec_odds  b_dec_odds  r_sub_odds  b_sub_odds  r_ko_odds  b_ko_odds  \n",
              "0          800.0       900.0      2000.0      1600.0     -110.0      175.0  \n",
              "1          450.0       350.0       700.0      1100.0      550.0      120.0  \n",
              "2          550.0       275.0       275.0      1400.0      600.0      185.0  \n",
              "3          175.0       900.0       500.0      3500.0      110.0     1100.0  \n",
              "4          165.0       200.0       400.0      1200.0      900.0      600.0  \n",
              "...          ...         ...         ...         ...        ...        ...  \n",
              "4891         NaN         NaN         NaN         NaN        NaN        NaN  \n",
              "4892         NaN         NaN         NaN         NaN        NaN        NaN  \n",
              "4893         NaN         NaN         NaN         NaN        NaN        NaN  \n",
              "4894         NaN         NaN         NaN         NaN        NaN        NaN  \n",
              "4895         NaN         NaN         NaN         NaN        NaN        NaN  \n",
              "\n",
              "[4896 rows x 119 columns]"
            ],
            "text/html": [
              "\n",
              "\n",
              "  <div id=\"df-472fc37e-e4fe-40fc-b5aa-de2f4f0d2ee1\">\n",
              "    <div class=\"colab-df-container\">\n",
              "      <div>\n",
              "<style scoped>\n",
              "    .dataframe tbody tr th:only-of-type {\n",
              "        vertical-align: middle;\n",
              "    }\n",
              "\n",
              "    .dataframe tbody tr th {\n",
              "        vertical-align: top;\n",
              "    }\n",
              "\n",
              "    .dataframe thead th {\n",
              "        text-align: right;\n",
              "    }\n",
              "</style>\n",
              "<table border=\"1\" class=\"dataframe\">\n",
              "  <thead>\n",
              "    <tr style=\"text-align: right;\">\n",
              "      <th></th>\n",
              "      <th>R_fighter</th>\n",
              "      <th>B_fighter</th>\n",
              "      <th>R_odds</th>\n",
              "      <th>B_odds</th>\n",
              "      <th>R_ev</th>\n",
              "      <th>B_ev</th>\n",
              "      <th>date</th>\n",
              "      <th>location</th>\n",
              "      <th>country</th>\n",
              "      <th>Winner</th>\n",
              "      <th>...</th>\n",
              "      <th>finish_details</th>\n",
              "      <th>finish_round</th>\n",
              "      <th>finish_round_time</th>\n",
              "      <th>total_fight_time_secs</th>\n",
              "      <th>r_dec_odds</th>\n",
              "      <th>b_dec_odds</th>\n",
              "      <th>r_sub_odds</th>\n",
              "      <th>b_sub_odds</th>\n",
              "      <th>r_ko_odds</th>\n",
              "      <th>b_ko_odds</th>\n",
              "    </tr>\n",
              "  </thead>\n",
              "  <tbody>\n",
              "    <tr>\n",
              "      <th>0</th>\n",
              "      <td>Thiago Santos</td>\n",
              "      <td>Johnny Walker</td>\n",
              "      <td>-150.0</td>\n",
              "      <td>130</td>\n",
              "      <td>66.666667</td>\n",
              "      <td>130.000000</td>\n",
              "      <td>2021-10-02</td>\n",
              "      <td>Las Vegas, Nevada, USA</td>\n",
              "      <td>USA</td>\n",
              "      <td>Red</td>\n",
              "      <td>...</td>\n",
              "      <td>NaN</td>\n",
              "      <td>5.0</td>\n",
              "      <td>5:00</td>\n",
              "      <td>1500.0</td>\n",
              "      <td>800.0</td>\n",
              "      <td>900.0</td>\n",
              "      <td>2000.0</td>\n",
              "      <td>1600.0</td>\n",
              "      <td>-110.0</td>\n",
              "      <td>175.0</td>\n",
              "    </tr>\n",
              "    <tr>\n",
              "      <th>1</th>\n",
              "      <td>Alex Oliveira</td>\n",
              "      <td>Niko Price</td>\n",
              "      <td>170.0</td>\n",
              "      <td>-200</td>\n",
              "      <td>170.000000</td>\n",
              "      <td>50.000000</td>\n",
              "      <td>2021-10-02</td>\n",
              "      <td>Las Vegas, Nevada, USA</td>\n",
              "      <td>USA</td>\n",
              "      <td>Blue</td>\n",
              "      <td>...</td>\n",
              "      <td>NaN</td>\n",
              "      <td>3.0</td>\n",
              "      <td>5:00</td>\n",
              "      <td>900.0</td>\n",
              "      <td>450.0</td>\n",
              "      <td>350.0</td>\n",
              "      <td>700.0</td>\n",
              "      <td>1100.0</td>\n",
              "      <td>550.0</td>\n",
              "      <td>120.0</td>\n",
              "    </tr>\n",
              "    <tr>\n",
              "      <th>2</th>\n",
              "      <td>Misha Cirkunov</td>\n",
              "      <td>Krzysztof Jotko</td>\n",
              "      <td>110.0</td>\n",
              "      <td>-130</td>\n",
              "      <td>110.000000</td>\n",
              "      <td>76.923077</td>\n",
              "      <td>2021-10-02</td>\n",
              "      <td>Las Vegas, Nevada, USA</td>\n",
              "      <td>USA</td>\n",
              "      <td>Blue</td>\n",
              "      <td>...</td>\n",
              "      <td>NaN</td>\n",
              "      <td>3.0</td>\n",
              "      <td>5:00</td>\n",
              "      <td>900.0</td>\n",
              "      <td>550.0</td>\n",
              "      <td>275.0</td>\n",
              "      <td>275.0</td>\n",
              "      <td>1400.0</td>\n",
              "      <td>600.0</td>\n",
              "      <td>185.0</td>\n",
              "    </tr>\n",
              "    <tr>\n",
              "      <th>3</th>\n",
              "      <td>Alexander Hernandez</td>\n",
              "      <td>Mike Breeden</td>\n",
              "      <td>-675.0</td>\n",
              "      <td>475</td>\n",
              "      <td>14.814815</td>\n",
              "      <td>475.000000</td>\n",
              "      <td>2021-10-02</td>\n",
              "      <td>Las Vegas, Nevada, USA</td>\n",
              "      <td>USA</td>\n",
              "      <td>Red</td>\n",
              "      <td>...</td>\n",
              "      <td>Punch</td>\n",
              "      <td>1.0</td>\n",
              "      <td>1:20</td>\n",
              "      <td>80.0</td>\n",
              "      <td>175.0</td>\n",
              "      <td>900.0</td>\n",
              "      <td>500.0</td>\n",
              "      <td>3500.0</td>\n",
              "      <td>110.0</td>\n",
              "      <td>1100.0</td>\n",
              "    </tr>\n",
              "    <tr>\n",
              "      <th>4</th>\n",
              "      <td>Joe Solecki</td>\n",
              "      <td>Jared Gordon</td>\n",
              "      <td>-135.0</td>\n",
              "      <td>115</td>\n",
              "      <td>74.074074</td>\n",
              "      <td>115.000000</td>\n",
              "      <td>2021-10-02</td>\n",
              "      <td>Las Vegas, Nevada, USA</td>\n",
              "      <td>USA</td>\n",
              "      <td>Blue</td>\n",
              "      <td>...</td>\n",
              "      <td>NaN</td>\n",
              "      <td>3.0</td>\n",
              "      <td>5:00</td>\n",
              "      <td>900.0</td>\n",
              "      <td>165.0</td>\n",
              "      <td>200.0</td>\n",
              "      <td>400.0</td>\n",
              "      <td>1200.0</td>\n",
              "      <td>900.0</td>\n",
              "      <td>600.0</td>\n",
              "    </tr>\n",
              "    <tr>\n",
              "      <th>...</th>\n",
              "      <td>...</td>\n",
              "      <td>...</td>\n",
              "      <td>...</td>\n",
              "      <td>...</td>\n",
              "      <td>...</td>\n",
              "      <td>...</td>\n",
              "      <td>...</td>\n",
              "      <td>...</td>\n",
              "      <td>...</td>\n",
              "      <td>...</td>\n",
              "      <td>...</td>\n",
              "      <td>...</td>\n",
              "      <td>...</td>\n",
              "      <td>...</td>\n",
              "      <td>...</td>\n",
              "      <td>...</td>\n",
              "      <td>...</td>\n",
              "      <td>...</td>\n",
              "      <td>...</td>\n",
              "      <td>...</td>\n",
              "      <td>...</td>\n",
              "    </tr>\n",
              "    <tr>\n",
              "      <th>4891</th>\n",
              "      <td>Duane Ludwig</td>\n",
              "      <td>Darren Elkins</td>\n",
              "      <td>-155.0</td>\n",
              "      <td>135</td>\n",
              "      <td>64.516129</td>\n",
              "      <td>135.000000</td>\n",
              "      <td>3/21/2010</td>\n",
              "      <td>Broomfield, Colorado, USA</td>\n",
              "      <td>USA</td>\n",
              "      <td>Blue</td>\n",
              "      <td>...</td>\n",
              "      <td>NaN</td>\n",
              "      <td>1.0</td>\n",
              "      <td>0:44</td>\n",
              "      <td>44.0</td>\n",
              "      <td>NaN</td>\n",
              "      <td>NaN</td>\n",
              "      <td>NaN</td>\n",
              "      <td>NaN</td>\n",
              "      <td>NaN</td>\n",
              "      <td>NaN</td>\n",
              "    </tr>\n",
              "    <tr>\n",
              "      <th>4892</th>\n",
              "      <td>John Howard</td>\n",
              "      <td>Daniel Roberts</td>\n",
              "      <td>-210.0</td>\n",
              "      <td>175</td>\n",
              "      <td>47.619048</td>\n",
              "      <td>175.000000</td>\n",
              "      <td>3/21/2010</td>\n",
              "      <td>Broomfield, Colorado, USA</td>\n",
              "      <td>USA</td>\n",
              "      <td>Red</td>\n",
              "      <td>...</td>\n",
              "      <td>Punch</td>\n",
              "      <td>1.0</td>\n",
              "      <td>2:01</td>\n",
              "      <td>121.0</td>\n",
              "      <td>NaN</td>\n",
              "      <td>NaN</td>\n",
              "      <td>NaN</td>\n",
              "      <td>NaN</td>\n",
              "      <td>NaN</td>\n",
              "      <td>NaN</td>\n",
              "    </tr>\n",
              "    <tr>\n",
              "      <th>4893</th>\n",
              "      <td>Brendan Schaub</td>\n",
              "      <td>Chase Gormley</td>\n",
              "      <td>-260.0</td>\n",
              "      <td>220</td>\n",
              "      <td>38.461538</td>\n",
              "      <td>220.000000</td>\n",
              "      <td>3/21/2010</td>\n",
              "      <td>Broomfield, Colorado, USA</td>\n",
              "      <td>USA</td>\n",
              "      <td>Red</td>\n",
              "      <td>...</td>\n",
              "      <td>Punches</td>\n",
              "      <td>1.0</td>\n",
              "      <td>0:47</td>\n",
              "      <td>47.0</td>\n",
              "      <td>NaN</td>\n",
              "      <td>NaN</td>\n",
              "      <td>NaN</td>\n",
              "      <td>NaN</td>\n",
              "      <td>NaN</td>\n",
              "      <td>NaN</td>\n",
              "    </tr>\n",
              "    <tr>\n",
              "      <th>4894</th>\n",
              "      <td>Mike Pierce</td>\n",
              "      <td>Julio Paulino</td>\n",
              "      <td>-420.0</td>\n",
              "      <td>335</td>\n",
              "      <td>23.809524</td>\n",
              "      <td>335.000000</td>\n",
              "      <td>3/21/2010</td>\n",
              "      <td>Broomfield, Colorado, USA</td>\n",
              "      <td>USA</td>\n",
              "      <td>Red</td>\n",
              "      <td>...</td>\n",
              "      <td>NaN</td>\n",
              "      <td>3.0</td>\n",
              "      <td>5:00</td>\n",
              "      <td>900.0</td>\n",
              "      <td>NaN</td>\n",
              "      <td>NaN</td>\n",
              "      <td>NaN</td>\n",
              "      <td>NaN</td>\n",
              "      <td>NaN</td>\n",
              "      <td>NaN</td>\n",
              "    </tr>\n",
              "    <tr>\n",
              "      <th>4895</th>\n",
              "      <td>Eric Schafer</td>\n",
              "      <td>Jason Brilz</td>\n",
              "      <td>140.0</td>\n",
              "      <td>-160</td>\n",
              "      <td>140.000000</td>\n",
              "      <td>62.500000</td>\n",
              "      <td>3/21/2010</td>\n",
              "      <td>Broomfield, Colorado, USA</td>\n",
              "      <td>USA</td>\n",
              "      <td>Blue</td>\n",
              "      <td>...</td>\n",
              "      <td>NaN</td>\n",
              "      <td>3.0</td>\n",
              "      <td>5:00</td>\n",
              "      <td>900.0</td>\n",
              "      <td>NaN</td>\n",
              "      <td>NaN</td>\n",
              "      <td>NaN</td>\n",
              "      <td>NaN</td>\n",
              "      <td>NaN</td>\n",
              "      <td>NaN</td>\n",
              "    </tr>\n",
              "  </tbody>\n",
              "</table>\n",
              "<p>4896 rows × 119 columns</p>\n",
              "</div>\n",
              "      <button class=\"colab-df-convert\" onclick=\"convertToInteractive('df-472fc37e-e4fe-40fc-b5aa-de2f4f0d2ee1')\"\n",
              "              title=\"Convert this dataframe to an interactive table.\"\n",
              "              style=\"display:none;\">\n",
              "\n",
              "  <svg xmlns=\"http://www.w3.org/2000/svg\" height=\"24px\"viewBox=\"0 0 24 24\"\n",
              "       width=\"24px\">\n",
              "    <path d=\"M0 0h24v24H0V0z\" fill=\"none\"/>\n",
              "    <path d=\"M18.56 5.44l.94 2.06.94-2.06 2.06-.94-2.06-.94-.94-2.06-.94 2.06-2.06.94zm-11 1L8.5 8.5l.94-2.06 2.06-.94-2.06-.94L8.5 2.5l-.94 2.06-2.06.94zm10 10l.94 2.06.94-2.06 2.06-.94-2.06-.94-.94-2.06-.94 2.06-2.06.94z\"/><path d=\"M17.41 7.96l-1.37-1.37c-.4-.4-.92-.59-1.43-.59-.52 0-1.04.2-1.43.59L10.3 9.45l-7.72 7.72c-.78.78-.78 2.05 0 2.83L4 21.41c.39.39.9.59 1.41.59.51 0 1.02-.2 1.41-.59l7.78-7.78 2.81-2.81c.8-.78.8-2.07 0-2.86zM5.41 20L4 18.59l7.72-7.72 1.47 1.35L5.41 20z\"/>\n",
              "  </svg>\n",
              "      </button>\n",
              "\n",
              "\n",
              "\n",
              "    <div id=\"df-c8362770-442c-438d-8e02-f609f5d4ddb9\">\n",
              "      <button class=\"colab-df-quickchart\" onclick=\"quickchart('df-c8362770-442c-438d-8e02-f609f5d4ddb9')\"\n",
              "              title=\"Suggest charts.\"\n",
              "              style=\"display:none;\">\n",
              "\n",
              "<svg xmlns=\"http://www.w3.org/2000/svg\" height=\"24px\"viewBox=\"0 0 24 24\"\n",
              "     width=\"24px\">\n",
              "    <g>\n",
              "        <path d=\"M19 3H5c-1.1 0-2 .9-2 2v14c0 1.1.9 2 2 2h14c1.1 0 2-.9 2-2V5c0-1.1-.9-2-2-2zM9 17H7v-7h2v7zm4 0h-2V7h2v10zm4 0h-2v-4h2v4z\"/>\n",
              "    </g>\n",
              "</svg>\n",
              "      </button>\n",
              "    </div>\n",
              "\n",
              "<style>\n",
              "  .colab-df-quickchart {\n",
              "    background-color: #E8F0FE;\n",
              "    border: none;\n",
              "    border-radius: 50%;\n",
              "    cursor: pointer;\n",
              "    display: none;\n",
              "    fill: #1967D2;\n",
              "    height: 32px;\n",
              "    padding: 0 0 0 0;\n",
              "    width: 32px;\n",
              "  }\n",
              "\n",
              "  .colab-df-quickchart:hover {\n",
              "    background-color: #E2EBFA;\n",
              "    box-shadow: 0px 1px 2px rgba(60, 64, 67, 0.3), 0px 1px 3px 1px rgba(60, 64, 67, 0.15);\n",
              "    fill: #174EA6;\n",
              "  }\n",
              "\n",
              "  [theme=dark] .colab-df-quickchart {\n",
              "    background-color: #3B4455;\n",
              "    fill: #D2E3FC;\n",
              "  }\n",
              "\n",
              "  [theme=dark] .colab-df-quickchart:hover {\n",
              "    background-color: #434B5C;\n",
              "    box-shadow: 0px 1px 3px 1px rgba(0, 0, 0, 0.15);\n",
              "    filter: drop-shadow(0px 1px 2px rgba(0, 0, 0, 0.3));\n",
              "    fill: #FFFFFF;\n",
              "  }\n",
              "</style>\n",
              "\n",
              "    <script>\n",
              "      async function quickchart(key) {\n",
              "        const containerElement = document.querySelector('#' + key);\n",
              "        const charts = await google.colab.kernel.invokeFunction(\n",
              "            'suggestCharts', [key], {});\n",
              "      }\n",
              "    </script>\n",
              "\n",
              "      <script>\n",
              "\n",
              "function displayQuickchartButton(domScope) {\n",
              "  let quickchartButtonEl =\n",
              "    domScope.querySelector('#df-c8362770-442c-438d-8e02-f609f5d4ddb9 button.colab-df-quickchart');\n",
              "  quickchartButtonEl.style.display =\n",
              "    google.colab.kernel.accessAllowed ? 'block' : 'none';\n",
              "}\n",
              "\n",
              "        displayQuickchartButton(document);\n",
              "      </script>\n",
              "      <style>\n",
              "    .colab-df-container {\n",
              "      display:flex;\n",
              "      flex-wrap:wrap;\n",
              "      gap: 12px;\n",
              "    }\n",
              "\n",
              "    .colab-df-convert {\n",
              "      background-color: #E8F0FE;\n",
              "      border: none;\n",
              "      border-radius: 50%;\n",
              "      cursor: pointer;\n",
              "      display: none;\n",
              "      fill: #1967D2;\n",
              "      height: 32px;\n",
              "      padding: 0 0 0 0;\n",
              "      width: 32px;\n",
              "    }\n",
              "\n",
              "    .colab-df-convert:hover {\n",
              "      background-color: #E2EBFA;\n",
              "      box-shadow: 0px 1px 2px rgba(60, 64, 67, 0.3), 0px 1px 3px 1px rgba(60, 64, 67, 0.15);\n",
              "      fill: #174EA6;\n",
              "    }\n",
              "\n",
              "    [theme=dark] .colab-df-convert {\n",
              "      background-color: #3B4455;\n",
              "      fill: #D2E3FC;\n",
              "    }\n",
              "\n",
              "    [theme=dark] .colab-df-convert:hover {\n",
              "      background-color: #434B5C;\n",
              "      box-shadow: 0px 1px 3px 1px rgba(0, 0, 0, 0.15);\n",
              "      filter: drop-shadow(0px 1px 2px rgba(0, 0, 0, 0.3));\n",
              "      fill: #FFFFFF;\n",
              "    }\n",
              "  </style>\n",
              "\n",
              "      <script>\n",
              "        const buttonEl =\n",
              "          document.querySelector('#df-472fc37e-e4fe-40fc-b5aa-de2f4f0d2ee1 button.colab-df-convert');\n",
              "        buttonEl.style.display =\n",
              "          google.colab.kernel.accessAllowed ? 'block' : 'none';\n",
              "\n",
              "        async function convertToInteractive(key) {\n",
              "          const element = document.querySelector('#df-472fc37e-e4fe-40fc-b5aa-de2f4f0d2ee1');\n",
              "          const dataTable =\n",
              "            await google.colab.kernel.invokeFunction('convertToInteractive',\n",
              "                                                     [key], {});\n",
              "          if (!dataTable) return;\n",
              "\n",
              "          const docLinkHtml = 'Like what you see? Visit the ' +\n",
              "            '<a target=\"_blank\" href=https://colab.research.google.com/notebooks/data_table.ipynb>data table notebook</a>'\n",
              "            + ' to learn more about interactive tables.';\n",
              "          element.innerHTML = '';\n",
              "          dataTable['output_type'] = 'display_data';\n",
              "          await google.colab.output.renderOutput(dataTable, element);\n",
              "          const docLink = document.createElement('div');\n",
              "          docLink.innerHTML = docLinkHtml;\n",
              "          element.appendChild(docLink);\n",
              "        }\n",
              "      </script>\n",
              "    </div>\n",
              "  </div>\n"
            ]
          },
          "metadata": {},
          "execution_count": 4
        }
      ]
    },
    {
      "cell_type": "markdown",
      "source": [
        "Son 4896 filas, o sea 4896 combates distintos."
      ],
      "metadata": {
        "id": "NYOY2ik7FkKZ"
      }
    },
    {
      "cell_type": "markdown",
      "source": [
        "La columna en dónde se indica el ganador de dicho combate contiene dos posibles valores, 'Red' o 'Blue', dependiendo en la esquina en la que estaba peleando el ganador, para poder usarlo cómo target, se convertirá en 1 si el ganador fue la esquina Red o 0 si fue la esquina Blue."
      ],
      "metadata": {
        "id": "7yz5BTfxFvol"
      }
    },
    {
      "cell_type": "code",
      "source": [
        "ufc['Winner'] = np.where(ufc['Winner'] == 'Red', 1, 0)\n",
        "\n",
        "print(\"Número de observaciones por clase\")\n",
        "print(ufc['Winner'].value_counts())\n",
        "print(\"\")\n",
        "\n",
        "print(\"Porcentaje de observaciones por clase\")\n",
        "print(100 * ufc['Winner'].value_counts(normalize=True))"
      ],
      "metadata": {
        "colab": {
          "base_uri": "https://localhost:8080/"
        },
        "id": "G4L3jSpECVUt",
        "outputId": "d4988e74-4aaa-47e5-eaeb-23daac18628e"
      },
      "execution_count": null,
      "outputs": [
        {
          "output_type": "stream",
          "name": "stdout",
          "text": [
            "Número de observaciones por clase\n",
            "1    2859\n",
            "0    2037\n",
            "Name: Winner, dtype: int64\n",
            "\n",
            "Porcentaje de observaciones por clase\n",
            "1    58.394608\n",
            "0    41.605392\n",
            "Name: Winner, dtype: float64\n"
          ]
        }
      ]
    },
    {
      "cell_type": "markdown",
      "source": [
        "El 58 por ciento de los combates lo ganó la esquina roja, mientras que el 42 fue para la azul, un modelo de clasificación que sea útil debe de ser capaz de predecir correctamente un porcentaje de observaciones por encima del porcentaje de la clase mayoritaria."
      ],
      "metadata": {
        "id": "O3IVg4vwGRQa"
      }
    },
    {
      "cell_type": "markdown",
      "source": [
        "Cómo primera aproximación se utilizarán 6 características, las apuestas previo al combate, y el record de cada peleador, es decir sus peleas ganadas y peleas perdidas."
      ],
      "metadata": {
        "id": "DZJjtbwqGuqG"
      }
    },
    {
      "cell_type": "code",
      "source": [
        "X = ufc[['R_odds', 'B_odds', 'R_wins', 'B_wins', 'R_losses', 'B_losses']]\n",
        "y = ufc['Winner']"
      ],
      "metadata": {
        "id": "Lnj0xw5vBWyQ"
      },
      "execution_count": null,
      "outputs": []
    },
    {
      "cell_type": "code",
      "source": [
        "X.isnull().sum()"
      ],
      "metadata": {
        "colab": {
          "base_uri": "https://localhost:8080/"
        },
        "id": "8TN-CNhZSLBa",
        "outputId": "f8c7cc09-4721-4005-f333-8dc4221a640d"
      },
      "execution_count": null,
      "outputs": [
        {
          "output_type": "execute_result",
          "data": {
            "text/plain": [
              "R_odds      1\n",
              "B_odds      0\n",
              "R_wins      0\n",
              "B_wins      0\n",
              "R_losses    0\n",
              "B_losses    0\n",
              "dtype: int64"
            ]
          },
          "metadata": {},
          "execution_count": 24
        }
      ]
    },
    {
      "cell_type": "code",
      "source": [
        "X.fillna(0, inplace = True)"
      ],
      "metadata": {
        "colab": {
          "base_uri": "https://localhost:8080/"
        },
        "id": "SoFJYv-3D3vg",
        "outputId": "ce079ffe-7984-4364-eed8-89c212ec01c4"
      },
      "execution_count": null,
      "outputs": [
        {
          "output_type": "stream",
          "name": "stderr",
          "text": [
            "<ipython-input-15-1272d6d86a40>:1: SettingWithCopyWarning: \n",
            "A value is trying to be set on a copy of a slice from a DataFrame\n",
            "\n",
            "See the caveats in the documentation: https://pandas.pydata.org/pandas-docs/stable/user_guide/indexing.html#returning-a-view-versus-a-copy\n",
            "  X.fillna(0, inplace = True)\n"
          ]
        }
      ]
    },
    {
      "cell_type": "code",
      "source": [
        "X.isnull().sum()"
      ],
      "metadata": {
        "colab": {
          "base_uri": "https://localhost:8080/"
        },
        "id": "rW5tAIVXFE4D",
        "outputId": "77aaaf4d-ae17-4590-eecb-b6a4bcc147d9"
      },
      "execution_count": null,
      "outputs": [
        {
          "output_type": "execute_result",
          "data": {
            "text/plain": [
              "R_odds      0\n",
              "B_odds      0\n",
              "R_wins      0\n",
              "B_wins      0\n",
              "R_losses    0\n",
              "B_losses    0\n",
              "dtype: int64"
            ]
          },
          "metadata": {},
          "execution_count": 26
        }
      ]
    },
    {
      "cell_type": "markdown",
      "source": [
        "Se utilizará StandardScaler de la libreria sklearn para normalizar los datos y que las diferentes escalas no afecten al modelo."
      ],
      "metadata": {
        "id": "WKJcmowebuAr"
      }
    },
    {
      "cell_type": "code",
      "source": [
        "from sklearn.preprocessing import StandardScaler\n",
        "\n",
        "\n",
        "# Crea el objeto de la clase StandardScaler\n",
        "scaler = StandardScaler()\n",
        "\n",
        "# Normaliza cada columna del dataframe por separado\n",
        "for column in X.columns:\n",
        "    X[column] = scaler.fit_transform(X[column].values.reshape(-1, 1))"
      ],
      "metadata": {
        "colab": {
          "base_uri": "https://localhost:8080/"
        },
        "id": "6Iu5fKgZ3wpz",
        "outputId": "90b1b173-d61f-4dde-f631-86e37f9b1db5"
      },
      "execution_count": null,
      "outputs": [
        {
          "output_type": "stream",
          "name": "stderr",
          "text": [
            "<ipython-input-18-41d4c68e5991>:9: SettingWithCopyWarning: \n",
            "A value is trying to be set on a copy of a slice from a DataFrame.\n",
            "Try using .loc[row_indexer,col_indexer] = value instead\n",
            "\n",
            "See the caveats in the documentation: https://pandas.pydata.org/pandas-docs/stable/user_guide/indexing.html#returning-a-view-versus-a-copy\n",
            "  X[column] = scaler.fit_transform(X[column].values.reshape(-1, 1))\n",
            "<ipython-input-18-41d4c68e5991>:9: SettingWithCopyWarning: \n",
            "A value is trying to be set on a copy of a slice from a DataFrame.\n",
            "Try using .loc[row_indexer,col_indexer] = value instead\n",
            "\n",
            "See the caveats in the documentation: https://pandas.pydata.org/pandas-docs/stable/user_guide/indexing.html#returning-a-view-versus-a-copy\n",
            "  X[column] = scaler.fit_transform(X[column].values.reshape(-1, 1))\n",
            "<ipython-input-18-41d4c68e5991>:9: SettingWithCopyWarning: \n",
            "A value is trying to be set on a copy of a slice from a DataFrame.\n",
            "Try using .loc[row_indexer,col_indexer] = value instead\n",
            "\n",
            "See the caveats in the documentation: https://pandas.pydata.org/pandas-docs/stable/user_guide/indexing.html#returning-a-view-versus-a-copy\n",
            "  X[column] = scaler.fit_transform(X[column].values.reshape(-1, 1))\n",
            "<ipython-input-18-41d4c68e5991>:9: SettingWithCopyWarning: \n",
            "A value is trying to be set on a copy of a slice from a DataFrame.\n",
            "Try using .loc[row_indexer,col_indexer] = value instead\n",
            "\n",
            "See the caveats in the documentation: https://pandas.pydata.org/pandas-docs/stable/user_guide/indexing.html#returning-a-view-versus-a-copy\n",
            "  X[column] = scaler.fit_transform(X[column].values.reshape(-1, 1))\n",
            "<ipython-input-18-41d4c68e5991>:9: SettingWithCopyWarning: \n",
            "A value is trying to be set on a copy of a slice from a DataFrame.\n",
            "Try using .loc[row_indexer,col_indexer] = value instead\n",
            "\n",
            "See the caveats in the documentation: https://pandas.pydata.org/pandas-docs/stable/user_guide/indexing.html#returning-a-view-versus-a-copy\n",
            "  X[column] = scaler.fit_transform(X[column].values.reshape(-1, 1))\n",
            "<ipython-input-18-41d4c68e5991>:9: SettingWithCopyWarning: \n",
            "A value is trying to be set on a copy of a slice from a DataFrame.\n",
            "Try using .loc[row_indexer,col_indexer] = value instead\n",
            "\n",
            "See the caveats in the documentation: https://pandas.pydata.org/pandas-docs/stable/user_guide/indexing.html#returning-a-view-versus-a-copy\n",
            "  X[column] = scaler.fit_transform(X[column].values.reshape(-1, 1))\n"
          ]
        }
      ]
    },
    {
      "cell_type": "markdown",
      "source": [
        "Se separa la data de entrenamiento y prueba."
      ],
      "metadata": {
        "id": "2bInEGaEHa2c"
      }
    },
    {
      "cell_type": "code",
      "source": [
        "X_train, X_test, y_train, y_test = train_test_split(\n",
        "                                        X,\n",
        "                                        y.values.reshape(-1,1),\n",
        "                                        train_size   = 0.8,\n",
        "                                        random_state = 1234,\n",
        "                                        shuffle      = True\n",
        "                                    )"
      ],
      "metadata": {
        "id": "jgAruZB3DDKU"
      },
      "execution_count": null,
      "outputs": []
    },
    {
      "cell_type": "markdown",
      "source": [
        "Para calcular el término de intercepto (constante) en el modelo, se agregará en la primera linea una columna constante de unos al conjunto de entrenamiento."
      ],
      "metadata": {
        "id": "NLevmcfYJuZm"
      }
    },
    {
      "cell_type": "code",
      "source": [
        "X_train = sm.add_constant(X_train, prepend=True) #Se agrega la columna constante\n",
        "modelo = sm.Logit(endog=y_train, exog=X_train,) #Creación del modelo\n",
        "modelo = modelo.fit() #Ajuste\n",
        "print(modelo.summary())"
      ],
      "metadata": {
        "colab": {
          "base_uri": "https://localhost:8080/"
        },
        "id": "qwHdDqSsDIaA",
        "outputId": "8dc222a1-863c-4e6e-e429-44de6dd0c653"
      },
      "execution_count": null,
      "outputs": [
        {
          "output_type": "stream",
          "name": "stdout",
          "text": [
            "Optimization terminated successfully.\n",
            "         Current function value: 0.617858\n",
            "         Iterations 6\n",
            "                           Logit Regression Results                           \n",
            "==============================================================================\n",
            "Dep. Variable:                      y   No. Observations:                 3916\n",
            "Model:                          Logit   Df Residuals:                     3909\n",
            "Method:                           MLE   Df Model:                            6\n",
            "Date:                Fri, 21 Jul 2023   Pseudo R-squ.:                 0.09000\n",
            "Time:                        19:18:53   Log-Likelihood:                -2419.5\n",
            "converged:                       True   LL-Null:                       -2658.8\n",
            "Covariance Type:            nonrobust   LLR p-value:                3.462e-100\n",
            "==============================================================================\n",
            "                 coef    std err          z      P>|z|      [0.025      0.975]\n",
            "------------------------------------------------------------------------------\n",
            "const          0.3837      0.035     10.988      0.000       0.315       0.452\n",
            "R_odds        -0.5055      0.169     -2.986      0.003      -0.837      -0.174\n",
            "B_odds         0.2852      0.161      1.768      0.077      -0.031       0.601\n",
            "R_wins        -0.0164      0.061     -0.270      0.787      -0.136       0.103\n",
            "B_wins         0.0022      0.060      0.036      0.971      -0.116       0.120\n",
            "R_losses      -0.0406      0.056     -0.726      0.468      -0.150       0.069\n",
            "B_losses       0.0183      0.055      0.334      0.739      -0.089       0.126\n",
            "==============================================================================\n"
          ]
        }
      ]
    },
    {
      "cell_type": "markdown",
      "source": [
        "Se hacen las predicciones del modelo con la Data de entrenamiento."
      ],
      "metadata": {
        "id": "o78W6UagcnDS"
      }
    },
    {
      "cell_type": "code",
      "source": [
        "predicciones = modelo.predict(exog = X_train)\n",
        "#Se indica que si la probabilidad es mayor a 0.5 se clasifique en la categoría con mayor probabilidad\n",
        "clasificacion = np.where(predicciones<0.5, 0, 1)\n",
        "clasificacion"
      ],
      "metadata": {
        "colab": {
          "base_uri": "https://localhost:8080/"
        },
        "id": "IHW9KihpQxpz",
        "outputId": "fd50f82b-b413-4ac2-91c4-df60b5aa65a4"
      },
      "execution_count": null,
      "outputs": [
        {
          "output_type": "execute_result",
          "data": {
            "text/plain": [
              "array([1, 1, 0, ..., 1, 0, 1])"
            ]
          },
          "metadata": {},
          "execution_count": 21
        }
      ]
    },
    {
      "cell_type": "markdown",
      "source": [
        "Se testea que tan preciso es el modelo preciendo y comparando con la Data que se separó especificamente para hacer la prueba de que tan preciso es."
      ],
      "metadata": {
        "id": "6gQvsXkVc9dc"
      }
    },
    {
      "cell_type": "code",
      "source": [
        "X_test = sm.add_constant(X_test, prepend=True)\n",
        "predicciones = modelo.predict(exog = X_test)\n",
        "clasificacion = np.where(predicciones<0.5, 0, 1)\n",
        "accuracy = accuracy_score(\n",
        "            y_true    = y_test,\n",
        "            y_pred    = clasificacion,\n",
        "            normalize = True\n",
        "           )\n",
        "print(\"\")\n",
        "print(f\"El modelo tiene un porcentaje de precision de: {100*accuracy}%\")"
      ],
      "metadata": {
        "colab": {
          "base_uri": "https://localhost:8080/"
        },
        "id": "z5n3PXQviKk-",
        "outputId": "20e082dd-5342-410d-aede-38430515a310"
      },
      "execution_count": null,
      "outputs": [
        {
          "output_type": "stream",
          "name": "stdout",
          "text": [
            "\n",
            "El accuracy de test es: 65.20408163265307%\n"
          ]
        }
      ]
    },
    {
      "cell_type": "markdown",
      "source": [
        "Parece que al menos tiene un porcentaje de precision mayor al de porcentaje de la clase mayoritaria, aún así, no parece ser muy preciso."
      ],
      "metadata": {
        "id": "uWoKybEGdqjc"
      }
    },
    {
      "cell_type": "markdown",
      "source": [
        "Se agregaran 4 nuevas caracteristicas al modelo, las edades de los peleadores, y sus rachas."
      ],
      "metadata": {
        "id": "7FxGP9JnlJ7M"
      }
    },
    {
      "cell_type": "code",
      "source": [
        "X = ufc[['R_odds', 'B_odds', 'R_wins', 'B_wins', 'R_losses', 'B_losses', 'B_current_win_streak', 'R_current_win_streak', 'B_age', 'R_age' ]]\n",
        "y = ufc['Winner']"
      ],
      "metadata": {
        "id": "8djbxXW4iaL6"
      },
      "execution_count": null,
      "outputs": []
    },
    {
      "cell_type": "code",
      "source": [
        "X.isnull().sum()"
      ],
      "metadata": {
        "colab": {
          "base_uri": "https://localhost:8080/"
        },
        "id": "9xJXbpS4mbPz",
        "outputId": "36b56435-9c14-45f6-cc1d-50d24cd7c601"
      },
      "execution_count": null,
      "outputs": [
        {
          "output_type": "execute_result",
          "data": {
            "text/plain": [
              "R_odds                  1\n",
              "B_odds                  0\n",
              "R_wins                  0\n",
              "B_wins                  0\n",
              "R_losses                0\n",
              "B_losses                0\n",
              "B_current_win_streak    0\n",
              "R_current_win_streak    0\n",
              "B_age                   0\n",
              "R_age                   0\n",
              "dtype: int64"
            ]
          },
          "metadata": {},
          "execution_count": 5
        }
      ]
    },
    {
      "cell_type": "code",
      "source": [
        "X.fillna(0, inplace = True)"
      ],
      "metadata": {
        "colab": {
          "base_uri": "https://localhost:8080/"
        },
        "id": "7HfJf5Bwmehw",
        "outputId": "d5612d97-cb41-4160-b361-e7dd667616ec"
      },
      "execution_count": null,
      "outputs": [
        {
          "output_type": "stream",
          "name": "stderr",
          "text": [
            "<ipython-input-9-1272d6d86a40>:1: SettingWithCopyWarning: \n",
            "A value is trying to be set on a copy of a slice from a DataFrame\n",
            "\n",
            "See the caveats in the documentation: https://pandas.pydata.org/pandas-docs/stable/user_guide/indexing.html#returning-a-view-versus-a-copy\n",
            "  X.fillna(0, inplace = True)\n"
          ]
        }
      ]
    },
    {
      "cell_type": "markdown",
      "source": [
        "Se repiten los procesos anteriores."
      ],
      "metadata": {
        "id": "jdDnhWKje3fB"
      }
    },
    {
      "cell_type": "code",
      "source": [
        "X_train, X_test, y_train, y_test = train_test_split(\n",
        "                                        X,\n",
        "                                        y.values.reshape(-1,1),\n",
        "                                        train_size   = 0.8,\n",
        "                                        random_state = 1234,\n",
        "                                        shuffle      = True\n",
        "                                    )"
      ],
      "metadata": {
        "id": "yloXmTkkmx8l"
      },
      "execution_count": null,
      "outputs": []
    },
    {
      "cell_type": "code",
      "source": [
        "X_train = sm.add_constant(X_train, prepend=True)\n",
        "modelo = sm.Logit(endog=y_train, exog=X_train,)\n",
        "modelo = modelo.fit()\n",
        "print(modelo.summary())"
      ],
      "metadata": {
        "colab": {
          "base_uri": "https://localhost:8080/"
        },
        "id": "BgvvppmtmzrD",
        "outputId": "f72a30ba-ec14-446d-9c4d-d9a4f37a8a43"
      },
      "execution_count": null,
      "outputs": [
        {
          "output_type": "stream",
          "name": "stdout",
          "text": [
            "Optimization terminated successfully.\n",
            "         Current function value: 0.615333\n",
            "         Iterations 5\n",
            "                           Logit Regression Results                           \n",
            "==============================================================================\n",
            "Dep. Variable:                      y   No. Observations:                 3916\n",
            "Model:                          Logit   Df Residuals:                     3905\n",
            "Method:                           MLE   Df Model:                           10\n",
            "Date:                Sun, 23 Jul 2023   Pseudo R-squ.:                 0.09372\n",
            "Time:                        02:03:24   Log-Likelihood:                -2409.6\n",
            "converged:                       True   LL-Null:                       -2658.8\n",
            "Covariance Type:            nonrobust   LLR p-value:                9.927e-101\n",
            "========================================================================================\n",
            "                           coef    std err          z      P>|z|      [0.025      0.975]\n",
            "----------------------------------------------------------------------------------------\n",
            "const                    0.1184      0.375      0.316      0.752      -0.617       0.854\n",
            "R_odds                  -0.0018      0.001     -2.926      0.003      -0.003      -0.001\n",
            "B_odds                   0.0010      0.001      1.569      0.117      -0.000       0.002\n",
            "R_wins                   0.0086      0.016      0.523      0.601      -0.024       0.041\n",
            "B_wins                   0.0200      0.019      1.039      0.299      -0.018       0.058\n",
            "R_losses                -0.0144      0.026     -0.554      0.580      -0.065       0.037\n",
            "B_losses                -0.0378      0.030     -1.269      0.204      -0.096       0.021\n",
            "B_current_win_streak    -0.0907      0.034     -2.685      0.007      -0.157      -0.024\n",
            "R_current_win_streak     0.0074      0.027      0.274      0.784      -0.046       0.061\n",
            "B_age                    0.0273      0.010      2.716      0.007       0.008       0.047\n",
            "R_age                   -0.0249      0.010     -2.469      0.014      -0.045      -0.005\n",
            "========================================================================================\n"
          ]
        }
      ]
    },
    {
      "cell_type": "code",
      "source": [
        "predicciones = modelo.predict(exog = X_train)\n",
        "\n",
        "clasificacion = np.where(predicciones<0.5, 0, 1)\n",
        "clasificacion"
      ],
      "metadata": {
        "colab": {
          "base_uri": "https://localhost:8080/"
        },
        "id": "MhqaFhnJnNzi",
        "outputId": "4ab6e8c2-19a6-41fc-aef3-112c803ee5bc"
      },
      "execution_count": null,
      "outputs": [
        {
          "output_type": "execute_result",
          "data": {
            "text/plain": [
              "array([1, 1, 0, ..., 1, 1, 1])"
            ]
          },
          "metadata": {},
          "execution_count": 12
        }
      ]
    },
    {
      "cell_type": "code",
      "source": [
        "X_test = sm.add_constant(X_test, prepend=True)\n",
        "predicciones = modelo.predict(exog = X_test)\n",
        "clasificacion = np.where(predicciones<0.5, 0, 1)\n",
        "accuracy = accuracy_score(\n",
        "            y_true    = y_test,\n",
        "            y_pred    = clasificacion,\n",
        "            normalize = True\n",
        "           )\n",
        "print(\"\")\n",
        "print(f\"El modelo tuvo un porcentaje de precision de : {100*accuracy}%\")"
      ],
      "metadata": {
        "colab": {
          "base_uri": "https://localhost:8080/"
        },
        "id": "CDYmHv4pnVoI",
        "outputId": "49cbcbf2-2694-41ed-d6ba-ce34180cf198"
      },
      "execution_count": null,
      "outputs": [
        {
          "output_type": "stream",
          "name": "stdout",
          "text": [
            "\n",
            "El modelo tuvo un porcentaje de precision de : 65.10204081632654%\n"
          ]
        }
      ]
    },
    {
      "cell_type": "markdown",
      "source": [
        "Al parecer la precisión del modelo no aumento aunque se hayan agregado estas características que tenían los peleadores previo a la pelea, lo que se podría interpretar cómo que una racha ganadora larga y un buen record previo a una pelea no son parámetros muy significativos para tratar de predecir si ese peleador ganará el combate."
      ],
      "metadata": {
        "id": "yGhUBa8AfZCY"
      }
    },
    {
      "cell_type": "markdown",
      "source": [
        "Por último, llegados a este punto podrán haber notado que estoy cometiendo una mala práctica al usar código repetitivo, y no reutilizarlo, por eso, los pasos anteriores los resumí en un pipeline para generar el modelo, y así cada vez que quiero cambiar las variables independientes para hacer experimentos con la predicción no tenga que volver a escribir todo el código, y de igual forma facilitando su lectura."
      ],
      "metadata": {
        "id": "GRZMw15MgUun"
      }
    },
    {
      "cell_type": "code",
      "source": [
        "from sklearn.pipeline import Pipeline\n",
        "from sklearn.preprocessing import StandardScaler\n",
        "\n",
        "#Variables y target\n",
        "ufc.B_avg_TD_landed\n",
        "X = ufc[['R_ev', 'B_ev','R_total_title_bouts', 'B_total_title_bouts']]\n",
        "X.fillna(0, inplace = True)\n",
        "y = ufc['Winner']\n",
        "\n",
        "# Se divide la Data en entrenamiento y prueba\n",
        "X_train, X_test, y_train, y_test = train_test_split(X, y, test_size=0.2, random_state=42)\n",
        "\n",
        "# Se crea el modelo y se aplica la normalización usando un pipeline\n",
        "pipeline = Pipeline([\n",
        "    ('scaler', StandardScaler()),  # Normalización\n",
        "    ('model', LogisticRegression())  # Se indica que es un modelo de regresión logística\n",
        "])\n",
        "\n",
        "# Se ajusta el modelo\n",
        "pipeline.fit(X_train, y_train)\n",
        "\n",
        "# Predicciones\n",
        "y_pred = pipeline.predict(X_test)\n",
        "\n",
        "# Se evalua la precisión del modelo.\n",
        "accuracy = accuracy_score(y_test, y_pred)\n",
        "print(\"\")\n",
        "print(f\"El modelo tuvo un porcentaje de precision de : {100*accuracy}%\")\n"
      ],
      "metadata": {
        "colab": {
          "base_uri": "https://localhost:8080/"
        },
        "id": "e40yv6zb2RRL",
        "outputId": "20c752b4-0d66-4b64-e406-be3765a55c42"
      },
      "execution_count": null,
      "outputs": [
        {
          "output_type": "stream",
          "name": "stdout",
          "text": [
            "\n",
            "El modelo tuvo un porcentaje de precision de : 65.0%\n"
          ]
        },
        {
          "output_type": "stream",
          "name": "stderr",
          "text": [
            "<ipython-input-17-09af0a4cd788>:7: SettingWithCopyWarning: \n",
            "A value is trying to be set on a copy of a slice from a DataFrame\n",
            "\n",
            "See the caveats in the documentation: https://pandas.pydata.org/pandas-docs/stable/user_guide/indexing.html#returning-a-view-versus-a-copy\n",
            "  X.fillna(0, inplace = True)\n"
          ]
        }
      ]
    },
    {
      "cell_type": "markdown",
      "source": [
        "En este último modelo sustituí las variables independientes anteriores dejando las apuestas previo a la pelea y poniendo cómo nuevas variables el número de peleas por el titulo que habían tenido estos peleadores, sin embargo la respuesta fue muy similar a las anteriores por lo que puedo concluir que las variables más significativas a tomar en cuenta para predecir el resultado de un combate (al menos con la información disponible en este Dataset) son las apuestas previo al combate, suena algo logico porque generalmente los apostadores por lo general toman en cuenta estas y más variables antes de arriesgar su dinero."
      ],
      "metadata": {
        "id": "quA6-V_BiClb"
      }
    }
  ]
}